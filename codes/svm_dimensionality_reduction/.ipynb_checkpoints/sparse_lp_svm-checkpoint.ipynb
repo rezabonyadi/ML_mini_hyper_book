{
 "cells": [
  {
   "cell_type": "code",
   "execution_count": 64,
   "metadata": {},
   "outputs": [],
   "source": [
    "# Load data\n",
    "from sklearn.datasets import load_wine\n",
    "import numpy as np\n",
    "import scipy as sp\n",
    "from matplotlib import pyplot as plt\n",
    "\n",
    "d = load_wine()\n",
    "x = d['data']\n",
    "y = d['target']\n",
    "\n",
    "y[y==2] = 1\n",
    "\n",
    "# x = np.random.randn(100,2)*1+[4,5]\n",
    "# x = np.concatenate([x, np.random.randn(100,2)*1+[-6, 5]])\n",
    "# y=np.concatenate([np.zeros(100),np.ones(100)])\n",
    "\n",
    "y[y==0]=-1"
   ]
  },
  {
   "cell_type": "code",
   "execution_count": 65,
   "metadata": {},
   "outputs": [
    {
     "data": {
      "text/plain": [
       "<matplotlib.collections.PathCollection at 0x173118a7e80>"
      ]
     },
     "execution_count": 65,
     "metadata": {},
     "output_type": "execute_result"
    },
    {
     "data": {
      "image/png": "[encoded data removed]",
      "text/plain": [
       "<Figure size 432x288 with 1 Axes>"
      ]
     },
     "metadata": {},
     "output_type": "display_data"
    }
   ],
   "source": [
    "plt.scatter(x[:,0], x[:,1], c=y, alpha=0.7)"
   ]
  },
  {
   "cell_type": "code",
   "execution_count": 66,
   "metadata": {},
   "outputs": [],
   "source": [
    "from scipy.optimize import linprog\n",
    "# Impose sparsity by: |x|=x+ + x- & x = x+ - x- \n",
    "class lp_svm_sparse():\n",
    "    def __init__(self):\n",
    "        pass\n",
    "    \n",
    "    def get_mats(self, x, y, lamb, gamma):\n",
    "        m, n = x.shape \n",
    "        # x+ (n), x-(n), r, epsilons(m), b(1)\n",
    "        c = np.concatenate([gamma*np.ones(n), gamma*np.ones(n), [-1.0], lamb*np.ones(m), [0.0]]) # Objective: w, r, epsilons, b\n",
    "        A = np.zeros((m+2*n, 2*n+2+m))\n",
    "        b = np.zeros(m+2*n)        \n",
    "        bounds = np.zeros((2, 2*n+2+m))\n",
    "        \n",
    "        # Inequality constraints\n",
    "        for i in range(m):\n",
    "            z = np.zeros(m)\n",
    "            z[i] = -1.0\n",
    "            A[i, :] = np.concatenate([-y[i]*x[i,:], y[i]*x[i,:], [1.0], z, [-y[i]]])\n",
    "                \n",
    "        for i in range(n):\n",
    "            z = np.zeros(m)\n",
    "            wwp_abs = np.zeros(2*n)\n",
    "            wwp_abs[i] = 1.0\n",
    "            wwp_abs[i+n] = -1.0            \n",
    "            A[m+i, :] = np.concatenate([wwp_abs, [0.0], z, [0.0]])\n",
    "            b[m+i] = 1.0\n",
    "            \n",
    "        for i in range(n):\n",
    "            z = np.zeros(m)\n",
    "            wwp_abs = np.zeros(2*n)\n",
    "            wwp_abs[i] = -1.0\n",
    "            wwp_abs[i+n] = 1.0            \n",
    "            A[m+n+i, :] = np.concatenate([wwp_abs, [0.0], z, [0.0]])\n",
    "            b[m+n+i] = 1.0\n",
    "    \n",
    "        bounds[0,:] = np.concatenate([n*[-np.inf], n*[-np.inf], [0.0], np.zeros(m), [-np.inf]])\n",
    "        bounds[1,:] = np.concatenate([n*[np.inf], n*[np.inf], [np.inf], m*[np.inf], [np.inf]])  \n",
    "#         A_eq = [] \n",
    "#         b_eq = []\n",
    "        return c, A, b, tuple(map(tuple, bounds.T))\n",
    "    \n",
    "    def fit(self, x, y, lamb=0.5, gamma=.1):\n",
    "        c, A, b, bounds = self.get_mats(x, y, lamb, gamma)\n",
    "#         c, A, b, bounds = self.get_mats(x, y, p_w, lamb)\n",
    "        res = linprog(c, A_ub=A, b_ub=b, bounds=bounds, options=dict(tol=1e-8))\n",
    "#         res = linprog(c, A_ub=A, b_ub=b, bounds=bounds, options=dict(tol=1e-8))\n",
    "        \n",
    "        m, n = x.shape\n",
    "        self.wr = res.x[0:n]\n",
    "        self.w = res.x[0:n]-res.x[n:2*n]\n",
    "        self.b = res.x[-1]\n",
    "        self.A = A\n",
    "        self.c = c\n",
    "        self.res = res\n",
    "    \n",
    "    def predict(self, x):\n",
    "        return 2*(x.dot(self.w)+self.b>0)-1"
   ]
  },
  {
   "cell_type": "code",
   "execution_count": 67,
   "metadata": {},
   "outputs": [],
   "source": [
    "from scipy.optimize import linprog\n",
    "class lp_svm_sparse_1():\n",
    "    def __init__(self):\n",
    "        pass\n",
    "    \n",
    "    def get_mats(self, x, y, lamb, gamma):\n",
    "        m, n = x.shape \n",
    "        c = np.concatenate([gamma*np.ones(n), gamma*np.ones(n), [-1.0], lamb*np.ones(m), [0.0]]) # Objective: w, r, epsilons, b\n",
    "        A = np.zeros((m, 2*n+2+m))\n",
    "        b = np.zeros(m)\n",
    "        bounds = np.zeros((2, 2*n+2+m))\n",
    "        for i in range(m):\n",
    "            z = np.zeros(m)\n",
    "            z[i] = -1.0\n",
    "            A[i, :] = np.concatenate([-y[i]*x[i,:], -y[i]*x[i,:], [1.0], z, [-y[i]]])\n",
    "                        \n",
    "        bounds[0,:] = np.concatenate([-np.ones(n), [0.0], np.zeros(m), [-np.inf]])\n",
    "        bounds[1,:] = np.concatenate([np.ones(n), [np.inf], m*[np.inf], [np.inf]])    \n",
    "        return c, A, b, tuple(map(tuple, bounds.T))\n",
    "    \n",
    "    def fit(self, x, y, lamb=0.5, p_w=np.empty(0)):\n",
    "        c, A, b, bounds = self.get_mats(x, y, lamb)\n",
    "        res = linprog(c, A_ub=A, b_ub=b, bounds=bounds, options=dict(tol=1e-8))\n",
    "        m, n = x.shape\n",
    "        self.w = res.x[0:n]\n",
    "        self.b = res.x[-1]\n",
    "        self.A = A\n",
    "        self.c = c\n",
    "        self.epsilons = res.x[n+1:-1]\n",
    "        self.r = res.x[n]\n",
    "        self.res = res\n",
    "    \n",
    "    def predict(self, x):\n",
    "        return 2*(x.dot(self.w)+self.b>0)-1"
   ]
  },
  {
   "cell_type": "code",
   "execution_count": 94,
   "metadata": {},
   "outputs": [
    {
     "name": "stdout",
     "output_type": "stream",
     "text": [
      "[ 0  0  0  0  2  0  0  0  0  0  0  0  0  0  0  0  2  2  0  0  2  2  0  0\n",
      "  2  2  0  0  2  0  0  0  0  2  0  2  0  0  0  0  0  0  0  2  0  2  0  0\n",
      "  0  0  0  0  0  0  0  2  0  0  0 -2 -2  0  0  0  0 -2 -2  0  0 -2 -2  0\n",
      "  0  0  0 -2 -2  0 -2  0  0 -2  0  0 -2  0  0  0  0  0 -2  0  0  0  0  0\n",
      "  0 -2 -2  0 -2 -2  0  0  0  0 -2  0  0 -2  0  0  0  0  0  0  0  0 -2  0\n",
      "  0  0  0  0  0  0  0  0  0  0  0  0  0  0 -2 -2  0  0  0  0  0  0  0  0\n",
      " -2  0  0  0  0  0  0  0  0  0  0  0  0  0  0  0  0  0  0  0  0  0  0  0\n",
      "  0  0  0  0  0  0  0  0  0  0]\n"
     ]
    }
   ],
   "source": [
    "from sklearn.svm import LinearSVC\n",
    "# l = LinearSVC(penalty='l1', dual=False)\n",
    "# l.fit(x, y)\n",
    "l = lp_svm_sparse()\n",
    "l.fit(x, y, lamb=0.5, gamma=.1)    \n",
    "print(l.predict(x)-y)"
   ]
  },
  {
   "cell_type": "code",
   "execution_count": 95,
   "metadata": {},
   "outputs": [
    {
     "name": "stdout",
     "output_type": "stream",
     "text": [
      "[-1 -1 -1 -1  1 -1 -1 -1 -1 -1 -1 -1 -1 -1 -1 -1  1  1 -1 -1  1  1 -1 -1\n",
      "  1  1 -1 -1  1 -1 -1 -1 -1  1 -1  1 -1 -1 -1 -1 -1 -1 -1  1 -1  1 -1 -1\n",
      " -1 -1 -1 -1 -1 -1 -1  1 -1 -1 -1 -1 -1  1  1  1  1 -1 -1  1  1 -1 -1  1\n",
      "  1  1  1 -1 -1  1 -1  1  1 -1  1  1 -1  1  1  1  1  1 -1  1  1  1  1  1\n",
      "  1 -1 -1  1 -1 -1  1  1  1  1 -1  1  1 -1  1  1  1  1  1  1  1  1 -1  1\n",
      "  1  1  1  1  1  1  1  1  1  1  1  1  1  1 -1 -1  1  1  1  1  1  1  1  1\n",
      " -1  1  1  1  1  1  1  1  1  1  1  1  1  1  1  1  1  1  1  1  1  1  1  1\n",
      "  1  1  1  1  1  1  1  1  1  1]\n"
     ]
    }
   ],
   "source": [
    "print(l.predict(x))"
   ]
  },
  {
   "cell_type": "code",
   "execution_count": 97,
   "metadata": {},
   "outputs": [
    {
     "data": {
      "text/plain": [
       "array([ 1.        ,  0.58612495,  1.        ,  1.        ,  0.08887904,\n",
       "        1.        ,  0.07475939,  0.        , -0.80586927, -0.04014256,\n",
       "        0.        ,  0.17998588, -0.00903444])"
      ]
     },
     "execution_count": 97,
     "metadata": {},
     "output_type": "execute_result"
    }
   ],
   "source": [
    "# l.coef_\n",
    "l.w"
   ]
  },
  {
   "cell_type": "code",
   "execution_count": 76,
   "metadata": {},
   "outputs": [
    {
     "ename": "AttributeError",
     "evalue": "'LinearSVC' object has no attribute 'w'",
     "output_type": "error",
     "traceback": [
      "\u001b[1;31m---------------------------------------------------------------------------\u001b[0m",
      "\u001b[1;31mAttributeError\u001b[0m                            Traceback (most recent call last)",
      "\u001b[1;32m<ipython-input-76-bea81d3010ba>\u001b[0m in \u001b[0;36m<module>\u001b[1;34m()\u001b[0m\n\u001b[0;32m      2\u001b[0m \u001b[1;31m# w = l.coef_[0]\u001b[0m\u001b[1;33m\u001b[0m\u001b[1;33m\u001b[0m\u001b[0m\n\u001b[0;32m      3\u001b[0m \u001b[1;31m# b = l.intercept_[0]\u001b[0m\u001b[1;33m\u001b[0m\u001b[1;33m\u001b[0m\u001b[0m\n\u001b[1;32m----> 4\u001b[1;33m \u001b[0mw\u001b[0m \u001b[1;33m=\u001b[0m \u001b[0ml\u001b[0m\u001b[1;33m.\u001b[0m\u001b[0mw\u001b[0m\u001b[1;33m\u001b[0m\u001b[0m\n\u001b[0m\u001b[0;32m      5\u001b[0m \u001b[0mb\u001b[0m \u001b[1;33m=\u001b[0m \u001b[0ml\u001b[0m\u001b[1;33m.\u001b[0m\u001b[0mb\u001b[0m\u001b[1;33m\u001b[0m\u001b[0m\n\u001b[0;32m      6\u001b[0m \u001b[1;33m\u001b[0m\u001b[0m\n",
      "\u001b[1;31mAttributeError\u001b[0m: 'LinearSVC' object has no attribute 'w'"
     ]
    }
   ],
   "source": [
    "m, n = x.shape\n",
    "# w = l.coef_[0]\n",
    "# b = l.intercept_[0]\n",
    "w = l.w\n",
    "b = l.b\n",
    "\n",
    "x_p = np.linspace(min(x[:,0])-1,max(x[:,0])+1,100)\n",
    "y_p = (-x_p*w[0]-b)/w[1]\n",
    "plt.scatter(x[:,0], x[:,1], c=y, alpha=0.7)\n",
    "plt.plot(x_p, y_p, '-r')\n",
    "plt.ylim([min(x[:,1])-1, max(x[:,1])+1])\n",
    "plt.show()"
   ]
  },
  {
   "cell_type": "code",
   "execution_count": 46,
   "metadata": {
    "scrolled": true
   },
   "outputs": [
    {
     "data": {
      "text/plain": [
       "array([-0.39266256, -0.08972738])"
      ]
     },
     "execution_count": 46,
     "metadata": {},
     "output_type": "execute_result"
    }
   ],
   "source": [
    "l.coef_[0]"
   ]
  },
  {
   "cell_type": "code",
   "execution_count": 132,
   "metadata": {
    "scrolled": true
   },
   "outputs": [
    {
     "data": {
      "text/plain": [
       "array([[ 3.55312005,  5.83310277, -3.55312005, -5.83310277,  1.        ,\n",
       "        -1.        ,  0.        ,  0.        ,  0.        ,  0.        ,\n",
       "         0.        ,  0.        ,  0.        ,  0.        ,  0.        ,\n",
       "         0.        ,  0.        ,  0.        ,  0.        ,  0.        ,\n",
       "         0.        ,  0.        ,  0.        ,  0.        ,  0.        ,\n",
       "         0.        ,  0.        ,  0.        ,  0.        ,  0.        ,\n",
       "         0.        ,  0.        ,  0.        ,  0.        ,  0.        ,\n",
       "         0.        ,  0.        ,  0.        ,  0.        ,  0.        ,\n",
       "         0.        ,  0.        ,  0.        ,  0.        ,  0.        ,\n",
       "         0.        ,  0.        ,  0.        ,  0.        ,  0.        ,\n",
       "         0.        ,  0.        ,  0.        ,  0.        ,  0.        ,\n",
       "         0.        ,  0.        ,  0.        ,  0.        ,  0.        ,\n",
       "         0.        ,  0.        ,  0.        ,  0.        ,  0.        ,\n",
       "         0.        ,  0.        ,  0.        ,  0.        ,  0.        ,\n",
       "         0.        ,  0.        ,  0.        ,  0.        ,  0.        ,\n",
       "         0.        ,  0.        ,  0.        ,  0.        ,  0.        ,\n",
       "         0.        ,  0.        ,  0.        ,  0.        ,  0.        ,\n",
       "         0.        ,  0.        ,  0.        ,  0.        ,  0.        ,\n",
       "         0.        ,  0.        ,  0.        ,  0.        ,  0.        ,\n",
       "         0.        ,  0.        ,  0.        ,  0.        ,  0.        ,\n",
       "         0.        ,  0.        ,  0.        ,  0.        ,  0.        ,\n",
       "         0.        ,  0.        ,  0.        ,  0.        ,  0.        ,\n",
       "         0.        ,  0.        ,  0.        ,  0.        ,  0.        ,\n",
       "         0.        ,  0.        ,  0.        ,  0.        ,  0.        ,\n",
       "         0.        ,  0.        ,  0.        ,  0.        ,  0.        ,\n",
       "         0.        ,  0.        ,  0.        ,  0.        ,  0.        ,\n",
       "         0.        ,  0.        ,  0.        ,  0.        ,  0.        ,\n",
       "         0.        ,  0.        ,  0.        ,  0.        ,  0.        ,\n",
       "         0.        ,  0.        ,  0.        ,  0.        ,  0.        ,\n",
       "         0.        ,  0.        ,  0.        ,  0.        ,  0.        ,\n",
       "         0.        ,  0.        ,  0.        ,  0.        ,  0.        ,\n",
       "         0.        ,  0.        ,  0.        ,  0.        ,  0.        ,\n",
       "         0.        ,  0.        ,  0.        ,  0.        ,  0.        ,\n",
       "         0.        ,  0.        ,  0.        ,  0.        ,  0.        ,\n",
       "         0.        ,  0.        ,  0.        ,  0.        ,  0.        ,\n",
       "         0.        ,  0.        ,  0.        ,  0.        ,  0.        ,\n",
       "         0.        ,  0.        ,  0.        ,  0.        ,  0.        ,\n",
       "         0.        ,  0.        ,  0.        ,  0.        ,  0.        ,\n",
       "         0.        ,  0.        ,  0.        ,  0.        ,  0.        ,\n",
       "         0.        ,  0.        ,  0.        ,  0.        ,  0.        ,\n",
       "         0.        ,  0.        ,  0.        ,  0.        ,  0.        ,\n",
       "         1.        ],\n",
       "       [ 4.43363629,  5.4586886 , -4.43363629, -5.4586886 ,  1.        ,\n",
       "         0.        , -1.        ,  0.        ,  0.        ,  0.        ,\n",
       "         0.        ,  0.        ,  0.        ,  0.        ,  0.        ,\n",
       "         0.        ,  0.        ,  0.        ,  0.        ,  0.        ,\n",
       "         0.        ,  0.        ,  0.        ,  0.        ,  0.        ,\n",
       "         0.        ,  0.        ,  0.        ,  0.        ,  0.        ,\n",
       "         0.        ,  0.        ,  0.        ,  0.        ,  0.        ,\n",
       "         0.        ,  0.        ,  0.        ,  0.        ,  0.        ,\n",
       "         0.        ,  0.        ,  0.        ,  0.        ,  0.        ,\n",
       "         0.        ,  0.        ,  0.        ,  0.        ,  0.        ,\n",
       "         0.        ,  0.        ,  0.        ,  0.        ,  0.        ,\n",
       "         0.        ,  0.        ,  0.        ,  0.        ,  0.        ,\n",
       "         0.        ,  0.        ,  0.        ,  0.        ,  0.        ,\n",
       "         0.        ,  0.        ,  0.        ,  0.        ,  0.        ,\n",
       "         0.        ,  0.        ,  0.        ,  0.        ,  0.        ,\n",
       "         0.        ,  0.        ,  0.        ,  0.        ,  0.        ,\n",
       "         0.        ,  0.        ,  0.        ,  0.        ,  0.        ,\n",
       "         0.        ,  0.        ,  0.        ,  0.        ,  0.        ,\n",
       "         0.        ,  0.        ,  0.        ,  0.        ,  0.        ,\n",
       "         0.        ,  0.        ,  0.        ,  0.        ,  0.        ,\n",
       "         0.        ,  0.        ,  0.        ,  0.        ,  0.        ,\n",
       "         0.        ,  0.        ,  0.        ,  0.        ,  0.        ,\n",
       "         0.        ,  0.        ,  0.        ,  0.        ,  0.        ,\n",
       "         0.        ,  0.        ,  0.        ,  0.        ,  0.        ,\n",
       "         0.        ,  0.        ,  0.        ,  0.        ,  0.        ,\n",
       "         0.        ,  0.        ,  0.        ,  0.        ,  0.        ,\n",
       "         0.        ,  0.        ,  0.        ,  0.        ,  0.        ,\n",
       "         0.        ,  0.        ,  0.        ,  0.        ,  0.        ,\n",
       "         0.        ,  0.        ,  0.        ,  0.        ,  0.        ,\n",
       "         0.        ,  0.        ,  0.        ,  0.        ,  0.        ,\n",
       "         0.        ,  0.        ,  0.        ,  0.        ,  0.        ,\n",
       "         0.        ,  0.        ,  0.        ,  0.        ,  0.        ,\n",
       "         0.        ,  0.        ,  0.        ,  0.        ,  0.        ,\n",
       "         0.        ,  0.        ,  0.        ,  0.        ,  0.        ,\n",
       "         0.        ,  0.        ,  0.        ,  0.        ,  0.        ,\n",
       "         0.        ,  0.        ,  0.        ,  0.        ,  0.        ,\n",
       "         0.        ,  0.        ,  0.        ,  0.        ,  0.        ,\n",
       "         0.        ,  0.        ,  0.        ,  0.        ,  0.        ,\n",
       "         0.        ,  0.        ,  0.        ,  0.        ,  0.        ,\n",
       "         0.        ,  0.        ,  0.        ,  0.        ,  0.        ,\n",
       "         0.        ,  0.        ,  0.        ,  0.        ,  0.        ,\n",
       "         1.        ]])"
      ]
     },
     "execution_count": 132,
     "metadata": {},
     "output_type": "execute_result"
    }
   ],
   "source": [
    "l.A[:n,:]"
   ]
  }
 ],
 "metadata": {
  "kernelspec": {
   "display_name": "Python 3",
   "language": "python",
   "name": "python3"
  },
  "language_info": {
   "codemirror_mode": {
    "name": "ipython",
    "version": 3
   },
   "file_extension": ".py",
   "mimetype": "text/x-python",
   "name": "python",
   "nbconvert_exporter": "python",
   "pygments_lexer": "ipython3",
   "version": "3.6.5"
  }
 },
 "nbformat": 4,
 "nbformat_minor": 2
}

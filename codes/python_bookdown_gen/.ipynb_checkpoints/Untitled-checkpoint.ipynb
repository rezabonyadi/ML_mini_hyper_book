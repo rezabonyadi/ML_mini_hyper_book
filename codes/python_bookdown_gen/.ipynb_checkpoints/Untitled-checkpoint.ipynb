{
 "cells": [
  {
   "cell_type": "code",
   "execution_count": 14,
   "metadata": {},
   "outputs": [
    {
     "name": "stdout",
     "output_type": "stream",
     "text": [
      "chapters/machine_learning/classification/02_logistic_regression.rmd\n",
      "chapters/machine_learning/classification/03_support_vector.rmd\n",
      "chapters/machine_learning/classification/04_decision_tree_classifier.rmd\n",
      "chapters/machine_learning/classification/05_k_nearest_neighbor.rmd\n",
      "chapters/machine_learning/dimensionality_reduction/01_dimensionality_reduction.rmd\n",
      "chapters/machine_learning/dimensionality_reduction/02_principle_component.rmd\n",
      "chapters/machine_learning/dimensionality_reduction/03_singular_value_decomposition.rmd\n",
      "chapters/machine_learning/metrics_learning/01_metrics_learning.rmd\n",
      "chapters/machine_learning/metrics_learning/02_large_margin_nearest_neighbor.rmd\n",
      "chapters/machine_learning/neural_networks/01_neural_networks.rmd\n",
      "chapters/machine_learning/neural_networks/02_multi_layer_perceptrons.rmd\n",
      "chapters/machine_learning/neural_networks/03_convolutional.rmd\n",
      "chapters/machine_learning/neural_networks/04_autoencoders.rmd\n",
      "chapters/machine_learning/regression/01_regression.rmd\n",
      "chapters/machine_learning/regression/02_linear_regression.rmd\n",
      "chapters/machine_learning/regression/03_decision_tree_regression.rmd\n",
      "chapters/machine_learning/reinforcement_learning/01_reinforcement_learning.rmd\n",
      "chapters/machine_learning/reinforcement_learning/02_q_learning.rmd\n",
      "chapters/optimization/derivative_based/01_derivatives.rmd\n",
      "chapters/optimization/optimization_problems/01_optimziation_problems.rmd\n"
     ]
    }
   ],
   "source": [
    "import os\n",
    "\n",
    "path = '../../chapters/'\n",
    "\n",
    "files = []\n",
    "# r=root, d=directories, f = files\n",
    "for r, d, f in os.walk(path):\n",
    "    for file in f:\n",
    "        if '.rmd' in file:\n",
    "            files.append(os.path.join(r, file))\n",
    "\n",
    "for f in files:\n",
    "    f = f.replace('../', '')\n",
    "    f = f.replace('\\\\', '/')\n",
    "    print(f)"
   ]
  },
  {
   "cell_type": "code",
   "execution_count": 12,
   "metadata": {},
   "outputs": [
    {
     "data": {
      "text/plain": [
       "'../../chapters/optimization/optimization_problems/01_optimziation_problems.rmd'"
      ]
     },
     "execution_count": 12,
     "metadata": {},
     "output_type": "execute_result"
    }
   ],
   "source": []
  }
 ],
 "metadata": {
  "kernelspec": {
   "display_name": "Python 3",
   "language": "python",
   "name": "python3"
  },
  "language_info": {
   "codemirror_mode": {
    "name": "ipython",
    "version": 3
   },
   "file_extension": ".py",
   "mimetype": "text/x-python",
   "name": "python",
   "nbconvert_exporter": "python",
   "pygments_lexer": "ipython3",
   "version": "3.6.5"
  }
 },
 "nbformat": 4,
 "nbformat_minor": 2
}

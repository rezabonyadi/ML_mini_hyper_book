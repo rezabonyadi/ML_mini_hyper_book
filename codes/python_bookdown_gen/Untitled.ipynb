{
 "cells": [
  {
   "cell_type": "code",
   "execution_count": 1,
   "metadata": {},
   "outputs": [
    {
     "name": "stdout",
     "output_type": "stream",
     "text": [
      "- chapters/99_notations.rmd\n",
      "- chapters/machine_learning/01_intro_machine_learning.rmd\n",
      "- chapters/machine_learning/02_classification/01_classification.rmd\n",
      "- chapters/machine_learning/02_classification/02_1_zero_one_loss.rmd\n",
      "- chapters/machine_learning/02_classification/02_logistic_regression.rmd\n",
      "- chapters/machine_learning/02_classification/03_1_Bayes_classifier.rmd\n",
      "- chapters/machine_learning/02_classification/03_support_vector.rmd\n",
      "- chapters/machine_learning/02_classification/04_decision_tree_classifier.rmd\n",
      "- chapters/machine_learning/02_classification/05_k_nearest_neighbor.rmd\n",
      "- chapters/machine_learning/02_classification/06_gaussian_process.rmd\n",
      "- chapters/machine_learning/02_classification/07_general_additive_model.rmd\n",
      "- chapters/machine_learning/02_classification/97_regularization.rmd\n",
      "- chapters/machine_learning/02_classification/98_binary_to_multiclass.rmd\n",
      "- chapters/machine_learning/02_classification/99_performance_measures.rmd\n",
      "- chapters/machine_learning/03_regression/01_regression.rmd\n",
      "- chapters/machine_learning/03_regression/02_linear_regression.rmd\n",
      "- chapters/machine_learning/03_regression/03_decision_tree_regression.rmd\n",
      "- chapters/machine_learning/03_regression/99_performance_measures.rmd\n",
      "- chapters/machine_learning/04_dimensionality_reduction/01_dimensionality_reduction.rmd\n",
      "- chapters/machine_learning/04_dimensionality_reduction/02_principle_component.rmd\n",
      "- chapters/machine_learning/04_dimensionality_reduction/04_t_sne.rmd\n",
      "- chapters/machine_learning/04_dimensionality_reduction/05_independent_component.rmd\n",
      "- chapters/machine_learning/04_dimensionality_reduction/06_partial_least_square.rmd\n",
      "- chapters/machine_learning/05_metrics_learning/01_metrics_learning.rmd\n",
      "- chapters/machine_learning/05_metrics_learning/02_large_margin_nearest_neighbor.rmd\n",
      "- chapters/machine_learning/05_metrics_learning/03_kernel_regression.rmd\n",
      "- chapters/machine_learning/06_neural_networks/01_neural_networks.rmd\n",
      "- chapters/machine_learning/06_neural_networks/02_multi_layer_perceptrons.rmd\n",
      "- chapters/machine_learning/06_neural_networks/03_mixed_density_networks.rmd\n",
      "- chapters/machine_learning/06_neural_networks/04_convolutional.rmd\n",
      "- chapters/machine_learning/06_neural_networks/05_autoencoders.rmd\n",
      "- chapters/machine_learning/06_neural_networks/07_gans.rmd\n",
      "- chapters/machine_learning/07_bayesian_estimations/bayesian_inference.rmd\n",
      "- chapters/machine_learning/08_ensembles/01_ensembles.rmd\n",
      "- chapters/machine_learning/08_ensembles/02_random_forest.rmd\n",
      "- chapters/machine_learning/08_ensembles/03_gradient_boost_tree.rmd\n",
      "- chapters/machine_learning/08_reinforcement_learning/01_reinforcement_learning.rmd\n",
      "- chapters/machine_learning/08_reinforcement_learning/02_q_learning.rmd\n",
      "- chapters/machine_learning/08_reinforcement_learning/03_curiosity.rmd\n",
      "- chapters/machine_learning/09_bagging_boosting/01_bagging_boosting.rmd\n",
      "- chapters/machine_learning/09_bagging_boosting/02_xgboost.rmd\n",
      "- chapters/machine_learning/10_annomally_detection/01_annomally_detection.rmd\n",
      "- chapters/machine_learning/11_preprocessing/01_preprocessing.rmd\n",
      "- chapters/machine_learning/12_signal_processing/01_introduction_signal_processing.rmd\n",
      "- chapters/optimization/01_intro_optimization.rmd\n",
      "- chapters/optimization/02_optimization_problems/01_optimization_problems.rmd\n",
      "- chapters/optimization/03_derivative_based/01_derivatives.rmd\n",
      "- chapters/optimization/04_derivative_free/01_derivative_free.rmd\n",
      "- chapters/optimization/04_derivative_free/02_finite_different.rmd\n",
      "- chapters/optimization/04_derivative_free/03_population_based.rmd\n",
      "- chapters/optimization/05_dealing_constraints/01_constraints.rmd\n",
      "- chapters/optimization/05_dealing_constraints/02_dealing_constraints.rmd\n",
      "- chapters/optimization/06_famous_forms/01_famous_forms.rmd\n",
      "- chapters/statistics/01_introduction.rmd\n",
      "- chapters/statistics/02_basics/01_basics.rmd\n",
      "- chapters/statistics/02_basics/02_correlation.rmd\n",
      "- chapters/statistics/02_basics/02_moments.rmd\n",
      "- chapters/statistics/02_basics/03_covariance_matrix.rmd\n",
      "- chapters/statistics/02_basics/04_distributions.rmd\n",
      "- chapters/statistics/03_analysis/01_statistical_analysis.rmd\n",
      "- chapters/statistics/03_analysis/01_tests.rmd\n",
      "- chapters/statistics/03_analysis/02_causality.rmd\n",
      "- chapters/statistics/03_analysis/03_anova.rmd\n"
     ]
    }
   ],
   "source": [
    "import os\n",
    "\n",
    "path = '../../chapters/'\n",
    "\n",
    "files = []\n",
    "# r=root, d=directories, f = files\n",
    "for r, d, f in os.walk(path):\n",
    "    for file in f:\n",
    "        if '.rmd' in file:\n",
    "            files.append(os.path.join(r, file))\n",
    "files.sort()\n",
    "for f in files:\n",
    "    f = f.replace('../', '')\n",
    "    f = f.replace('\\\\', '/')\n",
    "    print(''.join(['- ', f]))"
   ]
  },
  {
   "cell_type": "code",
   "execution_count": 17,
   "metadata": {},
   "outputs": [
    {
     "data": {
      "text/plain": [
       "'../../chapters/machine_learning\\\\classification\\\\02_logistic_regression.rmd'"
      ]
     },
     "execution_count": 17,
     "metadata": {},
     "output_type": "execute_result"
    }
   ],
   "source": [
    "files.sort()\n",
    "files[0]"
   ]
  }
 ],
 "metadata": {
  "kernelspec": {
   "display_name": "Python 3",
   "language": "python",
   "name": "python3"
  },
  "language_info": {
   "codemirror_mode": {
    "name": "ipython",
    "version": 3
   },
   "file_extension": ".py",
   "mimetype": "text/x-python",
   "name": "python",
   "nbconvert_exporter": "python",
   "pygments_lexer": "ipython3",
   "version": "3.6.5"
  },
  "varInspector": {
   "cols": {
    "lenName": 16,
    "lenType": 16,
    "lenVar": 40
   },
   "kernels_config": {
    "python": {
     "delete_cmd_postfix": "",
     "delete_cmd_prefix": "del ",
     "library": "var_list.py",
     "varRefreshCmd": "print(var_dic_list())"
    },
    "r": {
     "delete_cmd_postfix": ") ",
     "delete_cmd_prefix": "rm(",
     "library": "var_list.r",
     "varRefreshCmd": "cat(var_dic_list()) "
    }
   },
   "types_to_exclude": [
    "module",
    "function",
    "builtin_function_or_method",
    "instance",
    "_Feature"
   ],
   "window_display": false
  }
 },
 "nbformat": 4,
 "nbformat_minor": 2
}
